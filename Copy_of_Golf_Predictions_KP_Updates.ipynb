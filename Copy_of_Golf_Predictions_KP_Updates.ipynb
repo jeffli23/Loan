{
  "nbformat": 4,
  "nbformat_minor": 0,
  "metadata": {
    "colab": {
      "name": "Copy of Golf Predictions - KP Updates.ipynb",
      "version": "0.3.2",
      "provenance": [],
      "collapsed_sections": [],
      "include_colab_link": true
    },
    "kernelspec": {
      "name": "python3",
      "display_name": "Python 3"
    },
    "accelerator": "GPU"
  },
  "cells": [
    {
      "cell_type": "markdown",
      "metadata": {
        "id": "view-in-github",
        "colab_type": "text"
      },
      "source": [
        "<a href=\"https://colab.research.google.com/github/jeffli23/Loan/blob/master/Copy_of_Golf_Predictions_KP_Updates.ipynb\" target=\"_parent\"><img src=\"https://colab.research.google.com/assets/colab-badge.svg\" alt=\"Open In Colab\"/></a>"
      ]
    },
    {
      "cell_type": "markdown",
      "metadata": {
        "id": "_1QF14cGl13S",
        "colab_type": "text"
      },
      "source": [
        "# Should we play golf?\n",
        "\n",
        "\n",
        "\n",
        "Today, we will be testing a decision tree model. To predict whether or not we should golf.\n",
        "\n",
        "You will need to add some code to complete this notebook.  Follow along with the slides to find out what code to add.  You will add them where the narrative says \"ADD\" and insert that where the code says \"\\*\\*\\*ADD CODE HERE\\*\\*\\*\""
      ]
    },
    {
      "cell_type": "code",
      "metadata": {
        "id": "Lyd3djUITLLK",
        "colab_type": "code",
        "colab": {}
      },
      "source": [
        "from sklearn import tree\n",
        "import pandas as pd"
      ],
      "execution_count": 0,
      "outputs": []
    },
    {
      "cell_type": "markdown",
      "metadata": {
        "id": "gw8-EEFC2vvB",
        "colab_type": "text"
      },
      "source": [
        "## Seed and Target Data\n",
        "### Import packages that we need to explore and visualize our data.\n",
        "ADD Import statements"
      ]
    },
    {
      "cell_type": "code",
      "metadata": {
        "id": "qK_k_05xgnce",
        "colab_type": "code",
        "colab": {}
      },
      "source": [
        "# Import the appropriate packages:\n",
        "from sklearn import tree\n",
        "import pandas as pd\n",
        "\n",
        "# A convenience for displaying visualizations.\n",
        "from IPython.display import Image\n",
        "\n",
        "# Packages for rendering our tree.\n",
        "import pydotplus\n",
        "import graphviz"
      ],
      "execution_count": 0,
      "outputs": []
    },
    {
      "cell_type": "markdown",
      "metadata": {
        "id": "j2SAlxrr3Ouo",
        "colab_type": "text"
      },
      "source": [
        "### \"Collect\" the data\n",
        "Load in our weather data and whether or not we played golf"
      ]
    },
    {
      "cell_type": "code",
      "metadata": {
        "id": "vWQ0tQd7TtB8",
        "colab_type": "code",
        "colab": {}
      },
      "source": [
        "#create empty data frame\n",
        "golf_df = pd.DataFrame() \n",
        "\n",
        "# add outlook\n",
        "golf_df['Outlook'] = ['sunny', 'sunny', 'overcast', 'rainy', 'rainy', 'rainy', \n",
        "                     'overcast', 'sunny', 'sunny', 'rainy', 'sunny', 'overcast',\n",
        "                     'overcast', 'rainy']\n",
        "\n",
        "#add temperature\n",
        "golf_df['Temperature'] = [92, 86, 83, 50, 60, 53, 62,\n",
        "                         75, 57, 72, 78, 69, 61, 71]\n",
        "\n",
        "#add humidity\n",
        "golf_df['Humidity'] = [40.3, 63.1, 35.3, 86.3, 72.4, 22.7, 27.0,\n",
        "                      80.7, 15.4, 25.1, 18.6, 58.3, 47.2, 39.3]\n",
        "\n",
        "#add windy\n",
        "golf_df['Windy'] = ['false', 'true', 'false', 'false', 'false', 'true', 'true',\n",
        "                   'false', 'false', 'false', 'true', 'true', 'false', 'true']\n",
        "\n",
        "#finally add play\n",
        "golf_df['Play'] = ['no', 'no', 'yes', 'yes', 'yes', 'no', 'yes', \n",
        "                   'no', 'yes', 'yes', 'yes', 'yes', 'yes', 'no']"
      ],
      "execution_count": 0,
      "outputs": []
    },
    {
      "cell_type": "code",
      "metadata": {
        "id": "Xynpv-zXfd9I",
        "colab_type": "code",
        "colab": {
          "base_uri": "https://localhost:8080/",
          "height": 483
        },
        "outputId": "f3438708-3d66-4b2c-b812-c5f6fa603ab1"
      },
      "source": [
        "# Check what our DataFrame looks like\n",
        "golf_df"
      ],
      "execution_count": 7,
      "outputs": [
        {
          "output_type": "execute_result",
          "data": {
            "text/html": [
              "<div>\n",
              "<style scoped>\n",
              "    .dataframe tbody tr th:only-of-type {\n",
              "        vertical-align: middle;\n",
              "    }\n",
              "\n",
              "    .dataframe tbody tr th {\n",
              "        vertical-align: top;\n",
              "    }\n",
              "\n",
              "    .dataframe thead th {\n",
              "        text-align: right;\n",
              "    }\n",
              "</style>\n",
              "<table border=\"1\" class=\"dataframe\">\n",
              "  <thead>\n",
              "    <tr style=\"text-align: right;\">\n",
              "      <th></th>\n",
              "      <th>Outlook</th>\n",
              "      <th>Temperature</th>\n",
              "      <th>Humidity</th>\n",
              "      <th>Windy</th>\n",
              "      <th>Play</th>\n",
              "    </tr>\n",
              "  </thead>\n",
              "  <tbody>\n",
              "    <tr>\n",
              "      <th>0</th>\n",
              "      <td>sunny</td>\n",
              "      <td>92</td>\n",
              "      <td>40.3</td>\n",
              "      <td>false</td>\n",
              "      <td>no</td>\n",
              "    </tr>\n",
              "    <tr>\n",
              "      <th>1</th>\n",
              "      <td>sunny</td>\n",
              "      <td>86</td>\n",
              "      <td>63.1</td>\n",
              "      <td>true</td>\n",
              "      <td>no</td>\n",
              "    </tr>\n",
              "    <tr>\n",
              "      <th>2</th>\n",
              "      <td>overcast</td>\n",
              "      <td>83</td>\n",
              "      <td>35.3</td>\n",
              "      <td>false</td>\n",
              "      <td>yes</td>\n",
              "    </tr>\n",
              "    <tr>\n",
              "      <th>3</th>\n",
              "      <td>rainy</td>\n",
              "      <td>50</td>\n",
              "      <td>86.3</td>\n",
              "      <td>false</td>\n",
              "      <td>yes</td>\n",
              "    </tr>\n",
              "    <tr>\n",
              "      <th>4</th>\n",
              "      <td>rainy</td>\n",
              "      <td>60</td>\n",
              "      <td>72.4</td>\n",
              "      <td>false</td>\n",
              "      <td>yes</td>\n",
              "    </tr>\n",
              "    <tr>\n",
              "      <th>5</th>\n",
              "      <td>rainy</td>\n",
              "      <td>53</td>\n",
              "      <td>22.7</td>\n",
              "      <td>true</td>\n",
              "      <td>no</td>\n",
              "    </tr>\n",
              "    <tr>\n",
              "      <th>6</th>\n",
              "      <td>overcast</td>\n",
              "      <td>62</td>\n",
              "      <td>27.0</td>\n",
              "      <td>true</td>\n",
              "      <td>yes</td>\n",
              "    </tr>\n",
              "    <tr>\n",
              "      <th>7</th>\n",
              "      <td>sunny</td>\n",
              "      <td>75</td>\n",
              "      <td>80.7</td>\n",
              "      <td>false</td>\n",
              "      <td>no</td>\n",
              "    </tr>\n",
              "    <tr>\n",
              "      <th>8</th>\n",
              "      <td>sunny</td>\n",
              "      <td>57</td>\n",
              "      <td>15.4</td>\n",
              "      <td>false</td>\n",
              "      <td>yes</td>\n",
              "    </tr>\n",
              "    <tr>\n",
              "      <th>9</th>\n",
              "      <td>rainy</td>\n",
              "      <td>72</td>\n",
              "      <td>25.1</td>\n",
              "      <td>false</td>\n",
              "      <td>yes</td>\n",
              "    </tr>\n",
              "    <tr>\n",
              "      <th>10</th>\n",
              "      <td>sunny</td>\n",
              "      <td>78</td>\n",
              "      <td>18.6</td>\n",
              "      <td>true</td>\n",
              "      <td>yes</td>\n",
              "    </tr>\n",
              "    <tr>\n",
              "      <th>11</th>\n",
              "      <td>overcast</td>\n",
              "      <td>69</td>\n",
              "      <td>58.3</td>\n",
              "      <td>true</td>\n",
              "      <td>yes</td>\n",
              "    </tr>\n",
              "    <tr>\n",
              "      <th>12</th>\n",
              "      <td>overcast</td>\n",
              "      <td>61</td>\n",
              "      <td>47.2</td>\n",
              "      <td>false</td>\n",
              "      <td>yes</td>\n",
              "    </tr>\n",
              "    <tr>\n",
              "      <th>13</th>\n",
              "      <td>rainy</td>\n",
              "      <td>71</td>\n",
              "      <td>39.3</td>\n",
              "      <td>true</td>\n",
              "      <td>no</td>\n",
              "    </tr>\n",
              "  </tbody>\n",
              "</table>\n",
              "</div>"
            ],
            "text/plain": [
              "     Outlook  Temperature  Humidity  Windy Play\n",
              "0      sunny           92      40.3  false   no\n",
              "1      sunny           86      63.1   true   no\n",
              "2   overcast           83      35.3  false  yes\n",
              "3      rainy           50      86.3  false  yes\n",
              "4      rainy           60      72.4  false  yes\n",
              "5      rainy           53      22.7   true   no\n",
              "6   overcast           62      27.0   true  yes\n",
              "7      sunny           75      80.7  false   no\n",
              "8      sunny           57      15.4  false  yes\n",
              "9      rainy           72      25.1  false  yes\n",
              "10     sunny           78      18.6   true  yes\n",
              "11  overcast           69      58.3   true  yes\n",
              "12  overcast           61      47.2  false  yes\n",
              "13     rainy           71      39.3   true   no"
            ]
          },
          "metadata": {
            "tags": []
          },
          "execution_count": 7
        }
      ]
    },
    {
      "cell_type": "markdown",
      "metadata": {
        "id": "ULZO_Bgs30pb",
        "colab_type": "text"
      },
      "source": [
        "This data is not ready for machine learning because there are both categorical and numerical values, and our model can only interpret numerical values.  We need to turn strings and chars into integers.\n",
        "\n",
        "### Process the Data\n",
        "ADD the columns to one-hot encode"
      ]
    },
    {
      "cell_type": "code",
      "metadata": {
        "id": "yyrHndv1uu2l",
        "colab_type": "code",
        "colab": {
          "base_uri": "https://localhost:8080/",
          "height": 483
        },
        "outputId": "ae757936-feb1-448e-a3ca-7e2424ab700f"
      },
      "source": [
        "# one hot encoding using pandas\n",
        "one_hot_data = pd.get_dummies(golf_df[['Outlook','Windy']])\n",
        "\n",
        "# print out this new formatted data to see what happened\n",
        "one_hot_data"
      ],
      "execution_count": 8,
      "outputs": [
        {
          "output_type": "execute_result",
          "data": {
            "text/html": [
              "<div>\n",
              "<style scoped>\n",
              "    .dataframe tbody tr th:only-of-type {\n",
              "        vertical-align: middle;\n",
              "    }\n",
              "\n",
              "    .dataframe tbody tr th {\n",
              "        vertical-align: top;\n",
              "    }\n",
              "\n",
              "    .dataframe thead th {\n",
              "        text-align: right;\n",
              "    }\n",
              "</style>\n",
              "<table border=\"1\" class=\"dataframe\">\n",
              "  <thead>\n",
              "    <tr style=\"text-align: right;\">\n",
              "      <th></th>\n",
              "      <th>Outlook_overcast</th>\n",
              "      <th>Outlook_rainy</th>\n",
              "      <th>Outlook_sunny</th>\n",
              "      <th>Windy_false</th>\n",
              "      <th>Windy_true</th>\n",
              "    </tr>\n",
              "  </thead>\n",
              "  <tbody>\n",
              "    <tr>\n",
              "      <th>0</th>\n",
              "      <td>0</td>\n",
              "      <td>0</td>\n",
              "      <td>1</td>\n",
              "      <td>1</td>\n",
              "      <td>0</td>\n",
              "    </tr>\n",
              "    <tr>\n",
              "      <th>1</th>\n",
              "      <td>0</td>\n",
              "      <td>0</td>\n",
              "      <td>1</td>\n",
              "      <td>0</td>\n",
              "      <td>1</td>\n",
              "    </tr>\n",
              "    <tr>\n",
              "      <th>2</th>\n",
              "      <td>1</td>\n",
              "      <td>0</td>\n",
              "      <td>0</td>\n",
              "      <td>1</td>\n",
              "      <td>0</td>\n",
              "    </tr>\n",
              "    <tr>\n",
              "      <th>3</th>\n",
              "      <td>0</td>\n",
              "      <td>1</td>\n",
              "      <td>0</td>\n",
              "      <td>1</td>\n",
              "      <td>0</td>\n",
              "    </tr>\n",
              "    <tr>\n",
              "      <th>4</th>\n",
              "      <td>0</td>\n",
              "      <td>1</td>\n",
              "      <td>0</td>\n",
              "      <td>1</td>\n",
              "      <td>0</td>\n",
              "    </tr>\n",
              "    <tr>\n",
              "      <th>5</th>\n",
              "      <td>0</td>\n",
              "      <td>1</td>\n",
              "      <td>0</td>\n",
              "      <td>0</td>\n",
              "      <td>1</td>\n",
              "    </tr>\n",
              "    <tr>\n",
              "      <th>6</th>\n",
              "      <td>1</td>\n",
              "      <td>0</td>\n",
              "      <td>0</td>\n",
              "      <td>0</td>\n",
              "      <td>1</td>\n",
              "    </tr>\n",
              "    <tr>\n",
              "      <th>7</th>\n",
              "      <td>0</td>\n",
              "      <td>0</td>\n",
              "      <td>1</td>\n",
              "      <td>1</td>\n",
              "      <td>0</td>\n",
              "    </tr>\n",
              "    <tr>\n",
              "      <th>8</th>\n",
              "      <td>0</td>\n",
              "      <td>0</td>\n",
              "      <td>1</td>\n",
              "      <td>1</td>\n",
              "      <td>0</td>\n",
              "    </tr>\n",
              "    <tr>\n",
              "      <th>9</th>\n",
              "      <td>0</td>\n",
              "      <td>1</td>\n",
              "      <td>0</td>\n",
              "      <td>1</td>\n",
              "      <td>0</td>\n",
              "    </tr>\n",
              "    <tr>\n",
              "      <th>10</th>\n",
              "      <td>0</td>\n",
              "      <td>0</td>\n",
              "      <td>1</td>\n",
              "      <td>0</td>\n",
              "      <td>1</td>\n",
              "    </tr>\n",
              "    <tr>\n",
              "      <th>11</th>\n",
              "      <td>1</td>\n",
              "      <td>0</td>\n",
              "      <td>0</td>\n",
              "      <td>0</td>\n",
              "      <td>1</td>\n",
              "    </tr>\n",
              "    <tr>\n",
              "      <th>12</th>\n",
              "      <td>1</td>\n",
              "      <td>0</td>\n",
              "      <td>0</td>\n",
              "      <td>1</td>\n",
              "      <td>0</td>\n",
              "    </tr>\n",
              "    <tr>\n",
              "      <th>13</th>\n",
              "      <td>0</td>\n",
              "      <td>1</td>\n",
              "      <td>0</td>\n",
              "      <td>0</td>\n",
              "      <td>1</td>\n",
              "    </tr>\n",
              "  </tbody>\n",
              "</table>\n",
              "</div>"
            ],
            "text/plain": [
              "    Outlook_overcast  Outlook_rainy  Outlook_sunny  Windy_false  Windy_true\n",
              "0                  0              0              1            1           0\n",
              "1                  0              0              1            0           1\n",
              "2                  1              0              0            1           0\n",
              "3                  0              1              0            1           0\n",
              "4                  0              1              0            1           0\n",
              "5                  0              1              0            0           1\n",
              "6                  1              0              0            0           1\n",
              "7                  0              0              1            1           0\n",
              "8                  0              0              1            1           0\n",
              "9                  0              1              0            1           0\n",
              "10                 0              0              1            0           1\n",
              "11                 1              0              0            0           1\n",
              "12                 1              0              0            1           0\n",
              "13                 0              1              0            0           1"
            ]
          },
          "metadata": {
            "tags": []
          },
          "execution_count": 8
        }
      ]
    },
    {
      "cell_type": "markdown",
      "metadata": {
        "id": "vx4AERYH5O01",
        "colab_type": "text"
      },
      "source": [
        "Now the columns that were categorical are now numerical.  Feel free to go back and check that these numbers make sense with our original data.\n",
        "\n",
        "We now need to combine the one-hot encoded data that we just created with the numerical columns of temperature and humidity from our original DataFrame.  To do this, we will use the pandas `join` function."
      ]
    },
    {
      "cell_type": "code",
      "metadata": {
        "id": "zJ9iv9XcfwvY",
        "colab_type": "code",
        "colab": {
          "base_uri": "https://localhost:8080/",
          "height": 483
        },
        "outputId": "2053b5ea-557c-4ff0-cb50-85ccb1b04cab"
      },
      "source": [
        "# Joining together the continuous and dummy variables into one DataFrame\n",
        "golf_one_hot = golf_df[['Temperature', 'Humidity']].join(one_hot_data)\n",
        "\n",
        "# print out this new formatted data to see what happened\n",
        "golf_one_hot"
      ],
      "execution_count": 9,
      "outputs": [
        {
          "output_type": "execute_result",
          "data": {
            "text/html": [
              "<div>\n",
              "<style scoped>\n",
              "    .dataframe tbody tr th:only-of-type {\n",
              "        vertical-align: middle;\n",
              "    }\n",
              "\n",
              "    .dataframe tbody tr th {\n",
              "        vertical-align: top;\n",
              "    }\n",
              "\n",
              "    .dataframe thead th {\n",
              "        text-align: right;\n",
              "    }\n",
              "</style>\n",
              "<table border=\"1\" class=\"dataframe\">\n",
              "  <thead>\n",
              "    <tr style=\"text-align: right;\">\n",
              "      <th></th>\n",
              "      <th>Temperature</th>\n",
              "      <th>Humidity</th>\n",
              "      <th>Outlook_overcast</th>\n",
              "      <th>Outlook_rainy</th>\n",
              "      <th>Outlook_sunny</th>\n",
              "      <th>Windy_false</th>\n",
              "      <th>Windy_true</th>\n",
              "    </tr>\n",
              "  </thead>\n",
              "  <tbody>\n",
              "    <tr>\n",
              "      <th>0</th>\n",
              "      <td>92</td>\n",
              "      <td>40.3</td>\n",
              "      <td>0</td>\n",
              "      <td>0</td>\n",
              "      <td>1</td>\n",
              "      <td>1</td>\n",
              "      <td>0</td>\n",
              "    </tr>\n",
              "    <tr>\n",
              "      <th>1</th>\n",
              "      <td>86</td>\n",
              "      <td>63.1</td>\n",
              "      <td>0</td>\n",
              "      <td>0</td>\n",
              "      <td>1</td>\n",
              "      <td>0</td>\n",
              "      <td>1</td>\n",
              "    </tr>\n",
              "    <tr>\n",
              "      <th>2</th>\n",
              "      <td>83</td>\n",
              "      <td>35.3</td>\n",
              "      <td>1</td>\n",
              "      <td>0</td>\n",
              "      <td>0</td>\n",
              "      <td>1</td>\n",
              "      <td>0</td>\n",
              "    </tr>\n",
              "    <tr>\n",
              "      <th>3</th>\n",
              "      <td>50</td>\n",
              "      <td>86.3</td>\n",
              "      <td>0</td>\n",
              "      <td>1</td>\n",
              "      <td>0</td>\n",
              "      <td>1</td>\n",
              "      <td>0</td>\n",
              "    </tr>\n",
              "    <tr>\n",
              "      <th>4</th>\n",
              "      <td>60</td>\n",
              "      <td>72.4</td>\n",
              "      <td>0</td>\n",
              "      <td>1</td>\n",
              "      <td>0</td>\n",
              "      <td>1</td>\n",
              "      <td>0</td>\n",
              "    </tr>\n",
              "    <tr>\n",
              "      <th>5</th>\n",
              "      <td>53</td>\n",
              "      <td>22.7</td>\n",
              "      <td>0</td>\n",
              "      <td>1</td>\n",
              "      <td>0</td>\n",
              "      <td>0</td>\n",
              "      <td>1</td>\n",
              "    </tr>\n",
              "    <tr>\n",
              "      <th>6</th>\n",
              "      <td>62</td>\n",
              "      <td>27.0</td>\n",
              "      <td>1</td>\n",
              "      <td>0</td>\n",
              "      <td>0</td>\n",
              "      <td>0</td>\n",
              "      <td>1</td>\n",
              "    </tr>\n",
              "    <tr>\n",
              "      <th>7</th>\n",
              "      <td>75</td>\n",
              "      <td>80.7</td>\n",
              "      <td>0</td>\n",
              "      <td>0</td>\n",
              "      <td>1</td>\n",
              "      <td>1</td>\n",
              "      <td>0</td>\n",
              "    </tr>\n",
              "    <tr>\n",
              "      <th>8</th>\n",
              "      <td>57</td>\n",
              "      <td>15.4</td>\n",
              "      <td>0</td>\n",
              "      <td>0</td>\n",
              "      <td>1</td>\n",
              "      <td>1</td>\n",
              "      <td>0</td>\n",
              "    </tr>\n",
              "    <tr>\n",
              "      <th>9</th>\n",
              "      <td>72</td>\n",
              "      <td>25.1</td>\n",
              "      <td>0</td>\n",
              "      <td>1</td>\n",
              "      <td>0</td>\n",
              "      <td>1</td>\n",
              "      <td>0</td>\n",
              "    </tr>\n",
              "    <tr>\n",
              "      <th>10</th>\n",
              "      <td>78</td>\n",
              "      <td>18.6</td>\n",
              "      <td>0</td>\n",
              "      <td>0</td>\n",
              "      <td>1</td>\n",
              "      <td>0</td>\n",
              "      <td>1</td>\n",
              "    </tr>\n",
              "    <tr>\n",
              "      <th>11</th>\n",
              "      <td>69</td>\n",
              "      <td>58.3</td>\n",
              "      <td>1</td>\n",
              "      <td>0</td>\n",
              "      <td>0</td>\n",
              "      <td>0</td>\n",
              "      <td>1</td>\n",
              "    </tr>\n",
              "    <tr>\n",
              "      <th>12</th>\n",
              "      <td>61</td>\n",
              "      <td>47.2</td>\n",
              "      <td>1</td>\n",
              "      <td>0</td>\n",
              "      <td>0</td>\n",
              "      <td>1</td>\n",
              "      <td>0</td>\n",
              "    </tr>\n",
              "    <tr>\n",
              "      <th>13</th>\n",
              "      <td>71</td>\n",
              "      <td>39.3</td>\n",
              "      <td>0</td>\n",
              "      <td>1</td>\n",
              "      <td>0</td>\n",
              "      <td>0</td>\n",
              "      <td>1</td>\n",
              "    </tr>\n",
              "  </tbody>\n",
              "</table>\n",
              "</div>"
            ],
            "text/plain": [
              "    Temperature  Humidity  ...  Windy_false  Windy_true\n",
              "0            92      40.3  ...            1           0\n",
              "1            86      63.1  ...            0           1\n",
              "2            83      35.3  ...            1           0\n",
              "3            50      86.3  ...            1           0\n",
              "4            60      72.4  ...            1           0\n",
              "5            53      22.7  ...            0           1\n",
              "6            62      27.0  ...            0           1\n",
              "7            75      80.7  ...            1           0\n",
              "8            57      15.4  ...            1           0\n",
              "9            72      25.1  ...            1           0\n",
              "10           78      18.6  ...            0           1\n",
              "11           69      58.3  ...            0           1\n",
              "12           61      47.2  ...            1           0\n",
              "13           71      39.3  ...            0           1\n",
              "\n",
              "[14 rows x 7 columns]"
            ]
          },
          "metadata": {
            "tags": []
          },
          "execution_count": 9
        }
      ]
    },
    {
      "cell_type": "markdown",
      "metadata": {
        "id": "xEhvqrRH5qjO",
        "colab_type": "text"
      },
      "source": [
        "Great! Now we have both the original numerical data and the new numerically-encoded categorical data in one data set.  Now our data is ready for modeling!\n",
        "\n",
        "### Predictive Modeling\n",
        "First we will create an empty decision tree, then we will fit the decision tree with all of our weather data as the inputs, and whether or not we played golf as our target.  Finally, we will render our tree so we can take a look at our decision tree.\n",
        "\n",
        "ADD inputs and target data to fit statement"
      ]
    },
    {
      "cell_type": "code",
      "metadata": {
        "id": "ubnh0IKoH59F",
        "colab_type": "code",
        "colab": {
          "base_uri": "https://localhost:8080/",
          "height": 753
        },
        "outputId": "28d68de5-f45d-4802-c63d-5fac8a106f10"
      },
      "source": [
        "# Create empty DecisionTree\n",
        "clf = tree.DecisionTreeClassifier()\n",
        "\n",
        "#fit our decision tree with inputs, target\n",
        "clf_train = clf.fit(golf_one_hot, golf_df['Play'])\n",
        "\n",
        "# Render our tree.\n",
        "dot_data = tree.export_graphviz(\n",
        "    clf_train, out_file=None,\n",
        "    feature_names=golf_one_hot.columns,\n",
        "    class_names=['No Golf', 'Golf'], filled=True)\n",
        "graph = pydotplus.graph_from_dot_data(dot_data)\n",
        "Image(graph.create_png())"
      ],
      "execution_count": 16,
      "outputs": [
        {
          "output_type": "execute_result",
          "data": {
            "image/png": "[encoded data removed]",
            "text/plain": [
              "<IPython.core.display.Image object>"
            ]
          },
          "metadata": {
            "tags": []
          },
          "execution_count": 16
        }
      ]
    },
    {
      "cell_type": "markdown",
      "metadata": {
        "id": "f377nIYJ-uNg",
        "colab_type": "text"
      },
      "source": [
        "Finally, we can use our decision tree to make some predictions.  First, run our prediction.  Then change aroud some of the numbers (use this weekend's weather?) to see what the model predicts!"
      ]
    },
    {
      "cell_type": "code",
      "metadata": {
        "id": "GP2KSL75yllQ",
        "colab_type": "code",
        "colab": {
          "base_uri": "https://localhost:8080/",
          "height": 34
        },
        "outputId": "e0d7e8fb-5ec6-4f2f-f7be-c02e942b4a93"
      },
      "source": [
        "#Running our prediction\n",
        "#Columns are: [Temperature, Humidity, Outlook_overcast, Outlook_rainy, Outlook_sunny, Windy_false, Windy_true]\n",
        "prediction = clf_train.predict([[72, 15.3, 0, 0, 1, 0, 1]])\n",
        "prediction"
      ],
      "execution_count": 17,
      "outputs": [
        {
          "output_type": "execute_result",
          "data": {
            "text/plain": [
              "array(['yes'], dtype=object)"
            ]
          },
          "metadata": {
            "tags": []
          },
          "execution_count": 17
        }
      ]
    },
    {
      "cell_type": "markdown",
      "metadata": {
        "id": "h3JXx4xsZ5ra",
        "colab_type": "text"
      },
      "source": [
        "#### Challenge\n",
        "For added practice and to improve your model, think about what other factors would help make better predictions about whether or not you should golf. Add those to your DataFrame in the **\"Collect\" the Data** section, then run the rest of your code to see how your decision tree changes.  \n",
        "\n",
        "Things to keep in mind:\n",
        "- You will need the same number of data points in your new column as in the rest of the DataFrame\n",
        "- If your new data point is categorical, make sure you encode it\n",
        "- Your prediction will need to include that column(s) "
      ]
    },
    {
      "cell_type": "code",
      "metadata": {
        "id": "hcMHpCqxZHUZ",
        "colab_type": "code",
        "colab": {}
      },
      "source": [
        ""
      ],
      "execution_count": 0,
      "outputs": []
    },
    {
      "cell_type": "code",
      "metadata": {
        "id": "vbfx2k-aZ5HA",
        "colab_type": "code",
        "colab": {}
      },
      "source": [
        "# Starter code to copy and paste into to the \"\"Collect\" the Data\" cell above:\n",
        "golf_df['column_name'] = ['list', 'of', 'data', 'points...']"
      ],
      "execution_count": 0,
      "outputs": []
    }
  ]
}